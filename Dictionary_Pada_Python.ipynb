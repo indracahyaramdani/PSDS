{
  "nbformat": 4,
  "nbformat_minor": 0,
  "metadata": {
    "colab": {
      "name": "Dictionary Pada Python",
      "provenance": [],
      "collapsed_sections": [],
      "include_colab_link": true
    },
    "kernelspec": {
      "name": "python3",
      "display_name": "Python 3"
    }
  },
  "cells": [
    {
      "cell_type": "markdown",
      "metadata": {
        "id": "view-in-github",
        "colab_type": "text"
      },
      "source": [
        "<a href=\"https://colab.research.google.com/github/indracahyaramdani/PSDS/blob/main/Dictionary_Pada_Python.ipynb\" target=\"_parent\"><img src=\"https://colab.research.google.com/assets/colab-badge.svg\" alt=\"Open In Colab\"/></a>"
      ]
    },
    {
      "cell_type": "markdown",
      "metadata": {
        "id": "Pqe8_8WxzVZP"
      },
      "source": [
        "![alt text](https://drive.google.com/uc?id=1dbpeEVJeuHk2rkXH1gT19fnH-oT6oSdG\n",
        ")"
      ]
    },
    {
      "cell_type": "markdown",
      "metadata": {
        "id": "BpYmIeZj0EtX"
      },
      "source": [
        "Assalamualaikum warahmatullahi wabarakatuh.\n",
        "\n",
        "***Robbi Zidni Ilma Warzuqni Fahma***\n",
        "\n",
        "Semoga Allah memberi kemudahan untuk kita memperoleh ilmu yang bermanfaat.\n",
        "\n",
        "Ini adalah notebook yang disusun untuk program **Pejuang Data Sains 1.0** .\n",
        "\n",
        "Ini adalah **Modul 2D - Dictionary Pada Python**:\n",
        "\n",
        "## **Hasil Yang Ingin Dicapai**\n",
        "1. Memahami Dictionary Pada Python\n",
        "4. Mengenal dan memahami method-method pada Dictionary Python\n",
        "\n",
        "### ***!!!***\n",
        "\n",
        "***Sebelum memulai mempelajari notebook ini, jangan lupa untuk menyalinnya di drive masing-masing ya.***\n",
        "\n",
        "### ***!!!***\n"
      ]
    },
    {
      "cell_type": "markdown",
      "metadata": {
        "id": "1bnoscP55UBZ"
      },
      "source": [
        "\n",
        "\n",
        "---\n",
        "\n",
        "\n",
        "# **Dictionary Pada Python**\n",
        "\n",
        "\n",
        "---\n",
        "\n",
        "\n",
        "Berbeda dengan List dan Tuple, didalam Dictionary Python setiap urutanya berisi key dan value yang bersifat tidak berurutan. \n",
        "1. Setiap key dipisahkan dari value-nya oleh titik dua (:)\n",
        "2. item dipisahkan oleh koma, dan semuanya tertutup dalam kurung kurawal. \n",
        "3. Dictionary kosong tanpa barang ditulis hanya dengan dua kurung kurawal, seperti ini: {}."
      ]
    },
    {
      "cell_type": "markdown",
      "metadata": {
        "id": "Qqi7EOUv8QlF"
      },
      "source": [
        "**Contoh 1:**\n"
      ]
    },
    {
      "cell_type": "code",
      "metadata": {
        "id": "9frE3t3c-VL5",
        "colab": {
          "base_uri": "https://localhost:8080/"
        },
        "outputId": "bcc81597-f3cf-4900-fde0-cbeba1eae388"
      },
      "source": [
        "dict= {'Universitas' : 'UAD' , 'Prodi' : 'Matematika' , 'Tahun' : 2018 , 'NIM' : 180015065}\n",
        "print(type(dict))"
      ],
      "execution_count": null,
      "outputs": [
        {
          "output_type": "stream",
          "text": [
            "<class 'dict'>\n"
          ],
          "name": "stdout"
        }
      ]
    },
    {
      "cell_type": "markdown",
      "metadata": {
        "id": "cpN9v_hTCQ6w"
      },
      "source": [
        "Yuk coba buat dictionary kamu :)"
      ]
    },
    {
      "cell_type": "code",
      "metadata": {
        "id": "XGAZx3QiCWtQ"
      },
      "source": [
        "#Membuat directory\n",
        "\n"
      ],
      "execution_count": null,
      "outputs": []
    },
    {
      "cell_type": "markdown",
      "metadata": {
        "id": "wiTUsNTSAq-f"
      },
      "source": [
        "## Mengakses Nilai pada Dictionary\n",
        "Untuk mengakses elemen Dictionary, dapat menggunakan kurung siku yang berisi key ['key'] untuk mendapatkan value yang diinginkan."
      ]
    },
    {
      "cell_type": "code",
      "metadata": {
        "id": "B7K8CmX4BxV6",
        "colab": {
          "base_uri": "https://localhost:8080/"
        },
        "outputId": "4a2063d6-3abc-4d04-c443-7854ccac54ca"
      },
      "source": [
        "dict= {'Universitas' : 'UAD' , 'Prodi' : 'Matematika' , 'Tahun' : 2018 , 1800015065 : 'NIM'}\n",
        "print(type(dict))\n",
        "print(\"dict['Universitas'] = \", dict['Universitas'])\n",
        "print(\"dict['Prodi'] =\", dict['Prodi'])\n",
        "print(\"dict['Tahun'] =\", dict['Tahun'])\n",
        "print(\"dict[1800015065] = \", dict[1800015065])"
      ],
      "execution_count": null,
      "outputs": [
        {
          "output_type": "stream",
          "text": [
            "<class 'dict'>\n",
            "dict['Universitas'] =  UAD\n",
            "dict['Prodi'] = Matematika\n",
            "dict['Tahun'] = 2018\n",
            "dict[1800015065] =  NIM\n"
          ],
          "name": "stdout"
        }
      ]
    },
    {
      "cell_type": "markdown",
      "metadata": {
        "id": "0Ko2w5YXCeUH"
      },
      "source": [
        "Nah sekarang coba akses nilai di dictionary kamu, go go go"
      ]
    },
    {
      "cell_type": "code",
      "metadata": {
        "id": "zMOqnpFtCtBc"
      },
      "source": [
        "#Mengakses nilai directory\n",
        "\n"
      ],
      "execution_count": null,
      "outputs": []
    },
    {
      "cell_type": "markdown",
      "metadata": {
        "id": "UzGJBTYWF9Wz"
      },
      "source": [
        "## Mengubah Nilai pada Dictionary\n",
        "Anda dapat memperbarui Dictionary dengan menambahkan entri baru atau pasangan nilai kunci, memodifikasi entri yang ada, atau menghapus entri yang ada"
      ]
    },
    {
      "cell_type": "code",
      "metadata": {
        "id": "ZkMuE6xJGGzq",
        "colab": {
          "base_uri": "https://localhost:8080/"
        },
        "outputId": "04e6f11b-fba2-4654-b334-2eb18ea54521"
      },
      "source": [
        "dict= {'Universitas' : 'UAD' , 'Prodi' : 'Matematika' , 'Tahun' : 2018 , 1800015065 : 'NIM'}\n",
        "dict[1800015065] = 'Bukan NIM' #Mengubah entri atau value yang sudah ada\n",
        "dict['Universitas'] = 'UGM' #Menambah entri atau value\n",
        "print(\"dict[1800015065] =\", dict[1800015065]);\n",
        "print(\"dict['Universitas'] =\", dict['Universitas']);"
      ],
      "execution_count": null,
      "outputs": [
        {
          "output_type": "stream",
          "text": [
            "dict[1800015065] = Bukan NIM\n",
            "dict['Universitas'] = UGM\n"
          ],
          "name": "stdout"
        }
      ]
    },
    {
      "cell_type": "code",
      "metadata": {
        "id": "vX3rYRdjL6GF",
        "colab": {
          "base_uri": "https://localhost:8080/"
        },
        "outputId": "5a17aa9d-aa84-423b-a3d0-0a9164d7a2f0"
      },
      "source": [
        "thisdict = {\n",
        "    \"brand\" : \"Toyota\",\n",
        "    \"model\" : \"Kijang\",\n",
        "    \"year\" : 2004\n",
        "}\n",
        "print(thisdict)"
      ],
      "execution_count": null,
      "outputs": [
        {
          "output_type": "stream",
          "text": [
            "{'brand': 'Toyota', 'model': 'Kijang', 'year': 2004}\n"
          ],
          "name": "stdout"
        }
      ]
    },
    {
      "cell_type": "markdown",
      "metadata": {
        "id": "47jIA7JvC2sL"
      },
      "source": [
        "Sekarang sudah tau kan kalo nilai dictionary bisa diubah dan kalian sudah paham kan gimana ngubahnya, yuk dicoba dulu biar makin paham :)"
      ]
    },
    {
      "cell_type": "code",
      "metadata": {
        "id": "1gGuQpm1DPSN"
      },
      "source": [
        "#Mengubah nilai directory\n",
        "\n"
      ],
      "execution_count": null,
      "outputs": []
    },
    {
      "cell_type": "markdown",
      "metadata": {
        "id": "hBFir8xVLg5o"
      },
      "source": [
        "## Loop Melalui Dictionary\n",
        "\n",
        "Pada bagian Pengulangan melalui Dictionary, kita dapat melakukan Loop(Pengulangan) melalui Dictionary dengan menggunakan **for** loop.\n",
        "\n",
        "Saat melakukan pengulangan melalui Dictionary, nilai yang dikembalikan adalah kunci dari Dictionary, tetapi terdapat metode untuk mengembalikan nilai\n",
        "\n",
        "Sebagai contoh :\n",
        "Print semua nama kunci dalam Dictionary satu per satu"
      ]
    },
    {
      "cell_type": "code",
      "metadata": {
        "id": "EsK_xCfaMBwW",
        "colab": {
          "base_uri": "https://localhost:8080/"
        },
        "outputId": "b2b4a298-099d-4b1d-bf00-394716839f6a"
      },
      "source": [
        "for x in thisdict:\n",
        "  print(x)"
      ],
      "execution_count": null,
      "outputs": [
        {
          "output_type": "stream",
          "text": [
            "brand\n",
            "model\n",
            "year\n"
          ],
          "name": "stdout"
        }
      ]
    },
    {
      "cell_type": "markdown",
      "metadata": {
        "id": "vBPM3O_CMHmd"
      },
      "source": [
        "**Contoh 2:**\n",
        "\n",
        "Print semua *nilai* dalam Dictionary satu per satu"
      ]
    },
    {
      "cell_type": "code",
      "metadata": {
        "id": "zC1X4W8_MMDf",
        "colab": {
          "base_uri": "https://localhost:8080/"
        },
        "outputId": "b795cfbf-f9ff-4270-b3f9-0f3fa366ba0e"
      },
      "source": [
        "for x in thisdict:\n",
        "  print(thisdict[x])"
      ],
      "execution_count": null,
      "outputs": [
        {
          "output_type": "stream",
          "text": [
            "Toyota\n",
            "Kijang\n",
            "2004\n"
          ],
          "name": "stdout"
        }
      ]
    },
    {
      "cell_type": "markdown",
      "metadata": {
        "id": "CTX8JbrdMQHG"
      },
      "source": [
        "**Contoh 3:**\n",
        "\n",
        "Kita juga dapat menggunakan **values()** yang merupakan metode untuk mengembalikan nilai Dictionary"
      ]
    },
    {
      "cell_type": "code",
      "metadata": {
        "id": "P4sF4NJwMVKi",
        "colab": {
          "base_uri": "https://localhost:8080/"
        },
        "outputId": "2d8e634f-7bb7-4f3e-b984-f66575034fd7"
      },
      "source": [
        "for x in thisdict.values():\n",
        "  print(x)"
      ],
      "execution_count": null,
      "outputs": [
        {
          "output_type": "stream",
          "text": [
            "Toyota\n",
            "Kijang\n",
            "2004\n"
          ],
          "name": "stdout"
        }
      ]
    },
    {
      "cell_type": "markdown",
      "metadata": {
        "id": "Vw6KRxXUMYdk"
      },
      "source": [
        "**Contoh 4:**\n",
        "\n",
        "Ulangi kedua kunci dan nilai, dengan menggunakan metode **items()**:"
      ]
    },
    {
      "cell_type": "code",
      "metadata": {
        "id": "R0LHvTdCMciA",
        "colab": {
          "base_uri": "https://localhost:8080/"
        },
        "outputId": "8306e622-2e7c-4ab1-bf85-359497cb0fc0"
      },
      "source": [
        "for x, y in thisdict.items():\n",
        "  print(x, y)"
      ],
      "execution_count": null,
      "outputs": [
        {
          "output_type": "stream",
          "text": [
            "brand Toyota\n",
            "model Kijang\n",
            "year 2004\n"
          ],
          "name": "stdout"
        }
      ]
    },
    {
      "cell_type": "markdown",
      "metadata": {
        "id": "PLi6zJNRDjpd"
      },
      "source": [
        "Di atas sudah diberikan contoh loop melalui directory menggunakan berbagai cara, sekarang kalian coba biar makin paham"
      ]
    },
    {
      "cell_type": "code",
      "metadata": {
        "id": "k2wcRN_8EAJX"
      },
      "source": [
        "#Loop Melalui Directory\n",
        "\n"
      ],
      "execution_count": null,
      "outputs": []
    },
    {
      "cell_type": "markdown",
      "metadata": {
        "id": "xT7pJUjFMi_B"
      },
      "source": [
        "## Mengecek keanggotaan suatu key\n",
        "Untuk menentukan apakah kunci tertentu ada dalam Dictionary gunakan **in** sebagai kunci"
      ]
    },
    {
      "cell_type": "markdown",
      "metadata": {
        "id": "naFLmYYzMtOp"
      },
      "source": [
        "**Contoh 6:**\n",
        "\n",
        "Cek jika \"model\" terdapat pada Dictionary"
      ]
    },
    {
      "cell_type": "code",
      "metadata": {
        "id": "8flzqPCTMvAm",
        "colab": {
          "base_uri": "https://localhost:8080/"
        },
        "outputId": "84b0ddc0-4ca9-4600-e6a7-0b82cbe5be97"
      },
      "source": [
        "thisdict = {\n",
        "    \"brand\" : \"Toyota\",\n",
        "    \"model\" : \"Kijang\",\n",
        "    \"tahun\" : 2004\n",
        "}\n",
        "if \"model\" in thisdict :\n",
        "  print(\"Yes, 'model' adalah salah satu dari kunci dalam distict dictionary\")"
      ],
      "execution_count": null,
      "outputs": [
        {
          "output_type": "stream",
          "text": [
            "Yes, 'model' adalah salah satu dari kunci dalam distict dictionary\n"
          ],
          "name": "stdout"
        }
      ]
    },
    {
      "cell_type": "markdown",
      "metadata": {
        "id": "IUOIUwOYEQuR"
      },
      "source": [
        "Sekarang kalian coba deh cek keanggotaan suatu key yang ada di dictionary kalian, siapa tahu bukan merupakan anggota kan, bisa jadi penyusup xixixi"
      ]
    },
    {
      "cell_type": "code",
      "metadata": {
        "id": "K85KcpLaEsBH"
      },
      "source": [
        "#Mengecek keanggotaan suatu key\n",
        "\n"
      ],
      "execution_count": null,
      "outputs": []
    },
    {
      "cell_type": "markdown",
      "metadata": {
        "id": "NeXUQXjZOBOv"
      },
      "source": [
        "## Menambah Item"
      ]
    },
    {
      "cell_type": "markdown",
      "metadata": {
        "id": "-DeukrFUOOJ2"
      },
      "source": [
        "Untuk menambahkan item, kita dapat menggunakan kunci index baru dengan langsung memberikan nilainya. Untuk contohnya, bisa dilihat kode di bawah ini yaa :)"
      ]
    },
    {
      "cell_type": "code",
      "metadata": {
        "id": "pCnst7TaOPOE",
        "colab": {
          "base_uri": "https://localhost:8080/"
        },
        "outputId": "d53a5ef9-ddb2-4f2c-a975-34509b10029f"
      },
      "source": [
        "thisdict = {'Name': 'Zara', 'Age': 7, 'Class': 'First'}\n",
        "\n",
        "thisdict['School'] = \"DPS School\" # Menambah entri baru pada thisdict\n",
        "\n",
        "print (thisdict)"
      ],
      "execution_count": null,
      "outputs": [
        {
          "output_type": "stream",
          "text": [
            "{'Name': 'Zara', 'Age': 7, 'Class': 'First', 'School': 'DPS School'}\n"
          ],
          "name": "stdout"
        }
      ]
    },
    {
      "cell_type": "markdown",
      "metadata": {
        "id": "5mHe4zJJOaFJ"
      },
      "source": [
        "Selain menggunakan format di atas, untuk menambahkan item kita juga bisa menggunakan method update()."
      ]
    },
    {
      "cell_type": "code",
      "metadata": {
        "id": "P3ODwqpeObGi",
        "colab": {
          "base_uri": "https://localhost:8080/"
        },
        "outputId": "b9f1901e-e10a-4fd8-ec53-5de3dd1008a1"
      },
      "source": [
        "thisdict = {'Name': 'Zara', 'Age': 7, 'Class': 'First'}\n",
        "\n",
        "thisdict.update({\"School\": \"DPS School\"}) #Menambah item baru pada thisdict\n",
        "\n",
        "print(thisdict)"
      ],
      "execution_count": null,
      "outputs": [
        {
          "output_type": "stream",
          "text": [
            "{'Name': 'Zara', 'Age': 7, 'Class': 'First', 'School': 'DPS School'}\n"
          ],
          "name": "stdout"
        }
      ]
    },
    {
      "cell_type": "markdown",
      "metadata": {
        "id": "vES-HR3hE0-f"
      },
      "source": [
        "Nah iya nih dalam menambah item baru pada dictionary bisa dilakukan dengan 2 cara, menurut kalian mudah yang mana, dicoba dulu biar tahu rasanya hohoho"
      ]
    },
    {
      "cell_type": "code",
      "metadata": {
        "id": "ORxfmwHgFCwT"
      },
      "source": [
        "#Menambah item baru pada dictionary\n",
        "\n"
      ],
      "execution_count": null,
      "outputs": []
    },
    {
      "cell_type": "markdown",
      "metadata": {
        "id": "UztNPpTNOjkS"
      },
      "source": [
        "## Menghapus Item"
      ]
    },
    {
      "cell_type": "markdown",
      "metadata": {
        "id": "ZrrLJx6SOlQF"
      },
      "source": [
        "Untuk menghapus item yang ada pada Dictionary, kita bisa menggunakan perintah del, method pop(), method popitem(), dan method clear().\n",
        "\n",
        "- Fungsi del adalah fungsi untuk menghapus suatu variabel dari memori.\n",
        "\n",
        "- Method pop() adalah method yang berfungsi untuk mengeluarkan item yang diinginkan dari dictionary.\n",
        "\n",
        "- Method popitem() adalah method yang digunakan untuk menghapus item yang terakhir.\n",
        "\n",
        "- Method clear() adalah method yang digunakan untuk mengosongkan dictionary."
      ]
    },
    {
      "cell_type": "code",
      "metadata": {
        "id": "Tv2i5H42OsIk",
        "colab": {
          "base_uri": "https://localhost:8080/"
        },
        "outputId": "d43d6836-1015-4381-b11b-17ee01cb296c"
      },
      "source": [
        "#Menghapus item menggunakan del\n",
        "thisdict = {'Name': 'Zara', 'Age': 7, 'Class': 'First'}\n",
        "del thisdict[\"Name\"]\n",
        "\n",
        "print(thisdict)"
      ],
      "execution_count": null,
      "outputs": [
        {
          "output_type": "stream",
          "text": [
            "{'Age': 7, 'Class': 'First'}\n"
          ],
          "name": "stdout"
        }
      ]
    },
    {
      "cell_type": "code",
      "metadata": {
        "id": "5tHFrmvsOzKw",
        "colab": {
          "base_uri": "https://localhost:8080/"
        },
        "outputId": "3cbd988a-0ab8-48ea-a619-189d4647f3a6"
      },
      "source": [
        "#Menghapus item menggunakan method pop()\n",
        "thisdict = {'Name': 'Zara', 'Age': 7, 'Class': 'First'}\n",
        "thisdict.pop(\"Age\")\n",
        "\n",
        "print(thisdict)"
      ],
      "execution_count": null,
      "outputs": [
        {
          "output_type": "stream",
          "text": [
            "{'Name': 'Zara', 'Class': 'First'}\n"
          ],
          "name": "stdout"
        }
      ]
    },
    {
      "cell_type": "code",
      "metadata": {
        "id": "2wR2qAe1O0_p",
        "colab": {
          "base_uri": "https://localhost:8080/"
        },
        "outputId": "cb3f5419-5018-44ed-b1af-39df2a3316e1"
      },
      "source": [
        "#Menghapus item menggunakan method popitem()\n",
        "thisdict = {'Name': 'Zara', 'Age': 7, 'Class': 'First'}\n",
        "thisdict.popitem()\n",
        "\n",
        "print(thisdict)"
      ],
      "execution_count": null,
      "outputs": [
        {
          "output_type": "stream",
          "text": [
            "{'Name': 'Zara', 'Age': 7}\n"
          ],
          "name": "stdout"
        }
      ]
    },
    {
      "cell_type": "code",
      "metadata": {
        "id": "obesr1UqO_u5",
        "colab": {
          "base_uri": "https://localhost:8080/"
        },
        "outputId": "34b9f2b2-a949-4674-e335-73798939bfc4"
      },
      "source": [
        "#Menghapus item menggunakan method clear()\n",
        "thisdict = {'Name': 'Zara', 'Age': 7, 'Class': 'First'}\n",
        "thisdict.clear()\n",
        "\n",
        "print(thisdict)"
      ],
      "execution_count": null,
      "outputs": [
        {
          "output_type": "stream",
          "text": [
            "{}\n"
          ],
          "name": "stdout"
        }
      ]
    },
    {
      "cell_type": "markdown",
      "metadata": {
        "id": "VfK6RhraFOoQ"
      },
      "source": [
        "Dan kalo menghapus dictionary ternyata ada 4 cara lohh, pada contoh di atas sudah jelas kan, supaya tambah jelas silahkan dicoba yaa ;)"
      ]
    },
    {
      "cell_type": "code",
      "metadata": {
        "id": "1-BGdhElFert"
      },
      "source": [
        "#Menghapus item menggunakan del\n",
        "\n",
        "\n",
        "#Menghapus item menggunapak method pop()\n",
        "\n",
        "\n",
        "#Menghapus item menggunakan method popitem()\n",
        "\n",
        "\n",
        "#Menghapus item menggunakan method clear()"
      ],
      "execution_count": null,
      "outputs": []
    },
    {
      "cell_type": "markdown",
      "metadata": {
        "id": "yw-oOwJyPIFA"
      },
      "source": [
        "## Menyalin Dictionary"
      ]
    },
    {
      "cell_type": "markdown",
      "metadata": {
        "id": "ijhQx7qmPgcF"
      },
      "source": [
        "Untuk menyalin dictionary, kita dapat menggunakan method copy()."
      ]
    },
    {
      "cell_type": "code",
      "metadata": {
        "id": "Q-CWNgUuPPqg",
        "colab": {
          "base_uri": "https://localhost:8080/"
        },
        "outputId": "a3bd85bd-db1b-479c-ad77-5e8eb2774d15"
      },
      "source": [
        "#Menggunakan method copy()\n",
        "thisdict = {'Name': 'Zara', 'Age': 7, 'Class': 'First'}\n",
        "mydict=thisdict.copy()\n",
        "\n",
        "print(mydict)"
      ],
      "execution_count": null,
      "outputs": [
        {
          "output_type": "stream",
          "text": [
            "{'Name': 'Zara', 'Age': 7, 'Class': 'First'}\n"
          ],
          "name": "stdout"
        }
      ]
    },
    {
      "cell_type": "markdown",
      "metadata": {
        "id": "VhzUKxt8Ghg_"
      },
      "source": [
        "Yuk coba salin dictionary yang telah kalian buat tadi, biar bisa diotak atik lagi xixixi"
      ]
    },
    {
      "cell_type": "code",
      "metadata": {
        "id": "cYpu8BnOGfnZ"
      },
      "source": [
        "#Menyalin dictionary\n",
        "\n"
      ],
      "execution_count": null,
      "outputs": []
    },
    {
      "cell_type": "markdown",
      "metadata": {
        "id": "HapRCuUdJcal"
      },
      "source": [
        "## Nested Dictionary\n",
        "Nested Dictionary atau kamus bertingkat merupakan suatu kamus yang mana kamus tersebut bisa diisi dengan satu atau lebih kamus di dalamnya.\n",
        "\n",
        "Kita akan membuat sebuah contoh Kamus yang memuat 3 kamus di dalamnya"
      ]
    },
    {
      "cell_type": "code",
      "metadata": {
        "id": "a7HX1DVFJiQN",
        "colab": {
          "base_uri": "https://localhost:8080/"
        },
        "outputId": "94a00a32-84b6-43d5-e6a4-f5cac08c41e6"
      },
      "source": [
        "Keluarga_afif={\n",
        "    \"anak1\":{\n",
        "        \"nama\":\"dera\",\n",
        "        \"Tanggal Lahir\": 19012000\n",
        "    },\n",
        "    \"anak2\":{\n",
        "        \"nama\":\"Joko\",\n",
        "        \"Tanggal Lahir\": 17091997 \n",
        "    },\n",
        "    \"anak3\":{\n",
        "        \"nama\":\"Asih\",\n",
        "        \"Tanggal Lahir\": 20022000\n",
        "    }\n",
        "}\n",
        "\n",
        "print(Keluarga_afif)"
      ],
      "execution_count": null,
      "outputs": [
        {
          "output_type": "stream",
          "text": [
            "{'anak1': {'nama': 'dera', 'Tanggal Lahir': 19012000}, 'anak2': {'nama': 'Joko', 'Tanggal Lahir': 17091997}, 'anak3': {'nama': 'Asih', 'Tanggal Lahir': 20022000}}\n"
          ],
          "name": "stdout"
        }
      ]
    },
    {
      "cell_type": "markdown",
      "metadata": {
        "id": "R43exLqhJpmv"
      },
      "source": [
        "Kita akan membuat suatu Kamus yang akan berisi 3 kamus lainnya"
      ]
    },
    {
      "cell_type": "code",
      "metadata": {
        "id": "SV-t3qX-Jz7P",
        "colab": {
          "base_uri": "https://localhost:8080/"
        },
        "outputId": "ea9bfd4a-9ac1-4b1d-d543-1abbded16063"
      },
      "source": [
        "anak1={\"nama\":\"Rikma\",\"Tanggal Lahir\":19012000}\n",
        "anak2={\"nama\":\"Joko\",\"Tanggal Lahir\":17091997}\n",
        "anak3={\"nama\":\"Asih\",\"Tanggal Lahir\":20022000}\n",
        "\n",
        "Keluarga_afif={\"anak1\":anak1,\"anak2\":anak2,\"anak3\":anak3}\n",
        "print(Keluarga_afif)"
      ],
      "execution_count": null,
      "outputs": [
        {
          "output_type": "stream",
          "text": [
            "{'anak1': {'nama': 'Rikma', 'Tanggal Lahir': 19012000}, 'anak2': {'nama': 'Joko', 'Tanggal Lahir': 17091997}, 'anak3': {'nama': 'Asih', 'Tanggal Lahir': 20022000}}\n"
          ],
          "name": "stdout"
        }
      ]
    },
    {
      "cell_type": "markdown",
      "metadata": {
        "id": "rn1_pOZ3J5Z2"
      },
      "source": [
        "Atau kita juga dapat menggunakan fungsi dict() untuk membuat kamus yang baru"
      ]
    },
    {
      "cell_type": "code",
      "metadata": {
        "id": "_Iuj4TapKq3j"
      },
      "source": [
        "Indoapril=dict(barang='Minuman',merek='BearBrand',harga=7000)\n",
        "#Perlu di perhatikan  bahwa dalam fungsi dict() kita tidak lagi memakai kolon (:) tetapi menggunakan sama dengan (=)\n",
        "print(Indoapril)"
      ],
      "execution_count": null,
      "outputs": []
    },
    {
      "cell_type": "markdown",
      "metadata": {
        "id": "hqro2QmYG3pA"
      },
      "source": [
        "Paham belum nih tentang materi nested dictionary, coba sekarang kalian buat dan pahami, nanti pasti paham kalo udah nyoba ;)"
      ]
    },
    {
      "cell_type": "code",
      "metadata": {
        "id": "D9WDIcsaPysc"
      },
      "source": [
        "#Nested dictionary\n",
        "\n"
      ],
      "execution_count": null,
      "outputs": []
    },
    {
      "cell_type": "markdown",
      "metadata": {
        "id": "PP7KHpy-ymYq"
      },
      "source": [
        "\n",
        "\n",
        "---\n",
        "\n",
        "\n",
        "#**Berbagai Method untuk Dictionary**\n",
        "\n",
        "---\n",
        "\n"
      ]
    },
    {
      "cell_type": "markdown",
      "metadata": {
        "id": "hzM9fg8rILk9"
      },
      "source": [
        "- clear() : Menghapus semua elemen dictionary\n",
        "- copy() : Mengembalikan salinan dictionary\n",
        "- fromkeys() : Buat Dictionary baru dengan kunci dari seq dan nilai yang disetel ke nilai.\n",
        "- get() : Mengembalikan nilai dari kunci yang ditentukan\n",
        "- items() : Mengembalikan daftar dari pasangan tuple dictionary (key, value)\n",
        "- keys() : Mengembalikan daftar key dictionary\n",
        "- pop() : Menghapus item kunci yang disebutkan\n",
        "- popitem() : Menghapus item yang terakhir dimasukkan\n",
        "- setdefault() : Mengembalikan nilai dari kunci yang ditentukan. Jika kunci tidak ada: masukkan kunci dengan nilai yang ditentukan\n",
        "- update() : Menambah pasangan kunci yang diinginkan\n",
        "- values() : Mengembalikan daftar nilai dictionary"
      ]
    },
    {
      "cell_type": "markdown",
      "metadata": {
        "id": "Sacny0IzM1xc"
      },
      "source": [
        "## **Clear()**\n",
        "Untuk menghapus semua item/elemen yang termuat didalam dictionary, gunakan fungsi **clear()**\n",
        "\n",
        "dictionary.clear\n",
        "\n",
        "print(dictionary)"
      ]
    },
    {
      "cell_type": "code",
      "metadata": {
        "id": "aDt2u6E1OJK-",
        "colab": {
          "base_uri": "https://localhost:8080/"
        },
        "outputId": "9b59ab52-34ec-4cc7-9e78-e1be99ce316c"
      },
      "source": [
        "dict= {'Universitas' : 'UAD' , 'Prodi' : 'Matematika' , 'Tahun' : 2018 , 1800015065 : 'NIM'}\n",
        "dict.clear()\n",
        "print(dict)"
      ],
      "execution_count": null,
      "outputs": [
        {
          "output_type": "stream",
          "text": [
            "{}\n"
          ],
          "name": "stdout"
        }
      ]
    },
    {
      "cell_type": "markdown",
      "metadata": {
        "id": "_AGp8ZqbMnws"
      },
      "source": [
        "## **Copy()**\n",
        "Untuk mengcopy/menyalin item didalam dictionary, bisa digunakan fungsi **copy()**"
      ]
    },
    {
      "cell_type": "code",
      "metadata": {
        "id": "56NFeeSSNOVo",
        "colab": {
          "base_uri": "https://localhost:8080/"
        },
        "outputId": "63c818f8-bb12-4f5c-f477-05ec071ef33a"
      },
      "source": [
        "dict= {'Universitas' : 'UAD' , 'Prodi' : 'Matematika' , 'Tahun' : 2018 , 1800015065 : 'NIM'}\n",
        "C=dict.copy()\n",
        "print(C)"
      ],
      "execution_count": null,
      "outputs": [
        {
          "output_type": "stream",
          "text": [
            "{'Universitas': 'UAD', 'Prodi': 'Matematika', 'Tahun': 2018, 1800015065: 'NIM'}\n"
          ],
          "name": "stdout"
        }
      ]
    },
    {
      "cell_type": "markdown",
      "metadata": {
        "id": "Z6XDDzg2NyZ9"
      },
      "source": [
        "##**Fromkeys()**\n",
        "Untuk menyalin elemen di dalam dictionary, namun dengan kunci(key) dan nilai(value) tertentu, dapat menggunakan fungsi **fromkeys()**\n",
        "\n"
      ]
    },
    {
      "cell_type": "code",
      "metadata": {
        "id": "_KqfaOR_OUCc",
        "colab": {
          "base_uri": "https://localhost:8080/"
        },
        "outputId": "c52b7587-35f0-4fde-e416-dd17a02db90a"
      },
      "source": [
        "dict= {'Universitas' : 'UAD' , 'Prodi' : 'Matematika' , 'Tahun' : 2018 , 1800015065 : 'NIM'}\n",
        "x = ('Universitas', 'Prodi')\n",
        "y = 0\n",
        "\n",
        "thisdict = dict.fromkeys(x, y)\n",
        "\n",
        "print(thisdict)"
      ],
      "execution_count": null,
      "outputs": [
        {
          "output_type": "stream",
          "text": [
            "{'Universitas': 0, 'Prodi': 0}\n"
          ],
          "name": "stdout"
        }
      ]
    },
    {
      "cell_type": "markdown",
      "metadata": {
        "id": "nl9ZkUY4gDRJ"
      },
      "source": [
        "# Get()"
      ]
    },
    {
      "cell_type": "code",
      "metadata": {
        "id": "u8CbPd6igFW9",
        "colab": {
          "base_uri": "https://localhost:8080/"
        },
        "outputId": "25d67a73-4eb4-414a-a841-68dceef85f6d"
      },
      "source": [
        "car =\t{\n",
        "  \"brand\": \"Ford\",\n",
        "  \"model\": \"Mustang\",\n",
        "  \"year\": 1964\n",
        "}\n",
        "\n",
        "print(car.get('model'))"
      ],
      "execution_count": null,
      "outputs": [
        {
          "output_type": "stream",
          "text": [
            "Mustang\n"
          ],
          "name": "stdout"
        }
      ]
    },
    {
      "cell_type": "markdown",
      "metadata": {
        "id": "IfzbaW4lgWTa"
      },
      "source": [
        "#Items()"
      ]
    },
    {
      "cell_type": "code",
      "metadata": {
        "id": "gn_kNd6lgYlv",
        "colab": {
          "base_uri": "https://localhost:8080/"
        },
        "outputId": "97af2397-4fa0-4e6d-817d-5b2e03500274"
      },
      "source": [
        "car =\t{\n",
        "  \"brand\": \"Ford\",\n",
        "  \"model\": \"Mustang\",\n",
        "  \"year\": 1964\n",
        "}\n",
        "\n",
        "print(car.items())"
      ],
      "execution_count": null,
      "outputs": [
        {
          "output_type": "stream",
          "text": [
            "dict_items([('brand', 'Ford'), ('model', 'Mustang'), ('year', 1964)])\n"
          ],
          "name": "stdout"
        }
      ]
    },
    {
      "cell_type": "markdown",
      "metadata": {
        "id": "SAp7WXAbU5Fn"
      },
      "source": [
        "#**Pop()**\n",
        "\n",
        "Menghapus item kunci sekaligus value yang disebutkan,mari kita lihat contohnya dibawah ini"
      ]
    },
    {
      "cell_type": "code",
      "metadata": {
        "id": "Rt8xRNXcVsSE",
        "colab": {
          "base_uri": "https://localhost:8080/"
        },
        "outputId": "27a5f605-b19b-4d14-e69f-c3991f88733a"
      },
      "source": [
        "indoapril={'Barang':'Gundam','Merek':'Bandai','Jumlah':200}\n",
        "indoapril.pop('Barang')\n",
        "print(indoapril)"
      ],
      "execution_count": null,
      "outputs": [
        {
          "output_type": "stream",
          "text": [
            "{'Merek': 'Bandai', 'Jumlah': 200}\n"
          ],
          "name": "stdout"
        }
      ]
    },
    {
      "cell_type": "markdown",
      "metadata": {
        "id": "8VTYZPHvWphG"
      },
      "source": [
        "#**Popitem()**\n",
        "\n",
        "Menghapus item yang terakhir dimasukkan "
      ]
    },
    {
      "cell_type": "code",
      "metadata": {
        "id": "7Ko__9YSW0d3",
        "colab": {
          "base_uri": "https://localhost:8080/"
        },
        "outputId": "070de0bd-ac4b-43d9-a278-e941586b1b3d"
      },
      "source": [
        "#Kita akan menghilangkan pelakor dalam \"kehidupan_keluarga\"\n",
        "kehidupan_keluarga={'suami':'Budi','istri':'Dewi','pelakor':'Sari'}\n",
        "kehidupan_keluarga.popitem()\n",
        "print(kehidupan_keluarga)"
      ],
      "execution_count": null,
      "outputs": [
        {
          "output_type": "stream",
          "text": [
            "{'suami': 'Budi', 'istri': 'Dewi'}\n"
          ],
          "name": "stdout"
        }
      ]
    },
    {
      "cell_type": "markdown",
      "metadata": {
        "id": "-Pa2ANcmYqn3"
      },
      "source": [
        "#**Update()**\n",
        "\n",
        "Menambahkan pasangan kunci yang diinginkan"
      ]
    },
    {
      "cell_type": "code",
      "metadata": {
        "id": "fGDs07Z5ZDTH",
        "colab": {
          "base_uri": "https://localhost:8080/"
        },
        "outputId": "e45e116b-14d4-43ac-8ec2-c68c3c82febc"
      },
      "source": [
        "indoapril={'Barang':'Gundam','Merek':'Bandai','Jumlah':2000}\n",
        "indoapril.update({'Tanggal_Masuk': 12022020})\n",
        "print(indoapril)"
      ],
      "execution_count": null,
      "outputs": [
        {
          "output_type": "stream",
          "text": [
            "{'Barang': 'Gundam', 'Merek': 'Bandai', 'Jumlah': 2000, 'Tanggal_Masuk': 12022020}\n"
          ],
          "name": "stdout"
        }
      ]
    },
    {
      "cell_type": "markdown",
      "metadata": {
        "id": "Ezf7B8N5b0n9"
      },
      "source": [
        "#**Values()**\n",
        "\n",
        "Mengembalikan daftar nilai pada dictionary\n"
      ]
    },
    {
      "cell_type": "code",
      "metadata": {
        "id": "ka70siM6dsPq",
        "colab": {
          "base_uri": "https://localhost:8080/"
        },
        "outputId": "9678eaf9-6aff-4115-de00-3f4e02324b16"
      },
      "source": [
        "indoapril={'Barang':'Gundam','Merek':'Bandai','Jumlah':200}\n",
        "a=indoapril.values()\n",
        "print(a)"
      ],
      "execution_count": null,
      "outputs": [
        {
          "output_type": "stream",
          "text": [
            "dict_values(['Gundam', 'Bandai', 200])\n"
          ],
          "name": "stdout"
        }
      ]
    },
    {
      "cell_type": "markdown",
      "metadata": {
        "id": "SrenDDAWgr7Z"
      },
      "source": [
        "#len()"
      ]
    },
    {
      "cell_type": "markdown",
      "metadata": {
        "id": "R_W396Mng7-8"
      },
      "source": [
        "Method len digunakan untuk mengetahui banyaknya item yang ada pada directory"
      ]
    },
    {
      "cell_type": "code",
      "metadata": {
        "id": "18YplPaigxog",
        "colab": {
          "base_uri": "https://localhost:8080/"
        },
        "outputId": "c011b615-a2ef-49c2-e3ef-fc9e9719a3eb"
      },
      "source": [
        "car =\t{\n",
        "  \"brand\": \"Ford\",\n",
        "  \"model\": \"Mustang\",\n",
        "  \"year\": 1964\n",
        "}\n",
        "\n",
        "print(len(car))"
      ],
      "execution_count": null,
      "outputs": [
        {
          "output_type": "stream",
          "text": [
            "3\n"
          ],
          "name": "stdout"
        }
      ]
    },
    {
      "cell_type": "markdown",
      "metadata": {
        "id": "Ye7-S7W-K6qd"
      },
      "source": [
        "Di atas sudah dijelaskan berbagai method yang dapat digunakan dalam dictionary python, dan sudah ada beberapa method yang sudah kita coba jalankan di contoh-contoh di atas, sekarang kalian coba jalankan method-method ini supaya lebih paham tentang penggunaan method di atas. Semangattt."
      ]
    },
    {
      "cell_type": "code",
      "metadata": {
        "id": "zREop-cULi_L"
      },
      "source": [
        ""
      ],
      "execution_count": null,
      "outputs": []
    },
    {
      "cell_type": "code",
      "metadata": {
        "id": "VsIABh9VLjyi"
      },
      "source": [
        ""
      ],
      "execution_count": null,
      "outputs": []
    }
  ]
}