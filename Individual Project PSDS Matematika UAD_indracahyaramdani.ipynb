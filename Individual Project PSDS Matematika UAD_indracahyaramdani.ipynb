{
  "nbformat": 4,
  "nbformat_minor": 0,
  "metadata": {
    "colab": {
      "name": "indracahyaramdani.ipynb",
      "provenance": [],
      "collapsed_sections": [],
      "include_colab_link": true
    },
    "kernelspec": {
      "name": "python3",
      "display_name": "Python 3"
    }
  },
  "cells": [
    {
      "cell_type": "markdown",
      "metadata": {
        "id": "view-in-github",
        "colab_type": "text"
      },
      "source": [
        "<a href=\"https://colab.research.google.com/github/indracahyaramdani/PSDS/blob/main/indracahyaramdani.ipynb\" target=\"_parent\"><img src=\"https://colab.research.google.com/assets/colab-badge.svg\" alt=\"Open In Colab\"/></a>"
      ]
    },
    {
      "cell_type": "markdown",
      "metadata": {
        "id": "Me_Lo_eJ_XNG"
      },
      "source": [
        "# Individual Project PSDS Matematika UAD"
      ]
    },
    {
      "cell_type": "markdown",
      "metadata": {
        "id": "1gNDfiHd_hcO"
      },
      "source": [
        "Kolom 1 | Kolom 2 \n",
        "--------|---------\n",
        "Nama    | Indra Cahya Ramdani\n",
        "NIM     | 1800015053\n",
        "Semester| 5\n"
      ]
    },
    {
      "cell_type": "markdown",
      "metadata": {
        "id": "JzS--_Ch__bj"
      },
      "source": [
        "## 1.\tSub Materi : Fungsi pada Python"
      ]
    },
    {
      "cell_type": "code",
      "metadata": {
        "id": "C38O5eac_VP1",
        "colab": {
          "base_uri": "https://localhost:8080/"
        },
        "outputId": "cbc3f012-3442-472f-a274-22d393b514ad"
      },
      "source": [
        "import math\n",
        "\n",
        "\n",
        "def luassegitiga(x,y=None):\n",
        "  if (y==None):\n",
        "    t=(1/2)*x*math.sqrt(3)\n",
        "    ls=(1/2)*x*t\n",
        "    return ls  \n",
        "  \n",
        "  else:\n",
        "    t=math.sqrt((y**2)-(x**2))\n",
        "    ls=(1/2)*x*t\n",
        "    return ls\n",
        "\n",
        "#x sisi kaki, y sisi lain \n",
        "\n",
        "print(luassegitiga(2))\n",
        "print(luassegitiga(3,5))\n"
      ],
      "execution_count": null,
      "outputs": [
        {
          "output_type": "stream",
          "text": [
            "1.7320508075688772\n",
            "6.0\n"
          ],
          "name": "stdout"
        }
      ]
    },
    {
      "cell_type": "markdown",
      "metadata": {
        "id": "BHa8HeRVAFtk"
      },
      "source": [
        "## 2.\tSub Materi: Input Output dan Percabangan"
      ]
    },
    {
      "cell_type": "code",
      "metadata": {
        "id": "FOOolFLzAMDj",
        "colab": {
          "base_uri": "https://localhost:8080/"
        },
        "outputId": "6fb02c4d-5113-420e-8b48-1096d81ebd9d"
      },
      "source": [
        "\n",
        "\n",
        "#maaf kaka pusing ngerjainya \n",
        "\n",
        "\n",
        "\n",
        "\n",
        "print(\"Program Penghitung Luas dan Keliling Segita\")\n",
        "print(\"1.Deketahui 2 Sudut dan 1 sisi\")\n",
        "print(\"2.Diketahui 2 Sisi  dan 1 sudut\")\n",
        "print(\"3.3 Sisi\")\n",
        "print(\"4.1 Sisi dan Tinggi\")\n",
        "\n",
        "p=int(input(\"Masukan pilihan anda : \"))\n",
        "if p == 1:\n",
        "  print()\n",
        "elif p == 2:\n",
        "  print( )\n",
        "elif p == 3:\n",
        "  print()\n",
        "elif p == 4:\n",
        "  print()\n",
        "else:\n",
        "  print(\"angka yang anda masukan tidak ada\")\n",
        "\n",
        "\n"
      ],
      "execution_count": null,
      "outputs": [
        {
          "output_type": "stream",
          "text": [
            "Program Penghitung Luas dan Keliling Segita\n",
            "1.Deketahui 2 Sudut dan 1 sisi\n",
            "2.Diketahui 2 Sisi  dan 1 sudut\n",
            "3.3 Sisi\n",
            "4.1 Sisi dan Tinggi\n",
            "Masukan pilihan anda : 2\n",
            "\n"
          ],
          "name": "stdout"
        }
      ]
    },
    {
      "cell_type": "markdown",
      "metadata": {
        "id": "-w57QEPTAN9M"
      },
      "source": [
        "##3.\tSub Materi: Matriks dan Perulangan"
      ]
    },
    {
      "cell_type": "code",
      "metadata": {
        "colab": {
          "base_uri": "https://localhost:8080/"
        },
        "id": "QbDqzRlfQmEP",
        "outputId": "cafc78f5-96b9-4f19-e215-e1e44e7397ce"
      },
      "source": [
        "n= int(input(\"enter your number : \"))\n",
        "value=n\n",
        "size= n\n",
        "\n",
        "a=[[0 for i in range (size)]for j in range(size)]\n",
        "\n",
        "#memasukan value\n",
        "\n",
        "for j in range(size):\n",
        "    #Horizontal Left\n",
        "    a[j][0]=(size*4-3)-j\n",
        "    #vertikal upper\n",
        "    a[0][j]=j+1\n",
        "    #horizontal Right\n",
        "    a[j][size-1]=(size)+j\n",
        "    #vertikal lower\n",
        "    a[size-1][j]=(size*3-2)-j\n",
        "   \n",
        "\n",
        "\n",
        "for i in range(size):\n",
        "  for j in range(size):\n",
        "    print(a[i][j],end=\"  \")\n",
        "  print()"
      ],
      "execution_count": null,
      "outputs": [
        {
          "output_type": "stream",
          "text": [
            "enter your number : 3\n",
            "1  2  3  \n",
            "8  0  4  \n",
            "7  6  5  \n"
          ],
          "name": "stdout"
        }
      ]
    }
  ]
}
